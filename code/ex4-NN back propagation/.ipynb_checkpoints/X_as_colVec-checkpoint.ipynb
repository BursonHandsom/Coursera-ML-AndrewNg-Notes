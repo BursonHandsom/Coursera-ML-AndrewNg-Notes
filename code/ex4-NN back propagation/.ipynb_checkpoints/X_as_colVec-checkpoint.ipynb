{
 "cells": [
  {
   "cell_type": "code",
   "execution_count": null,
   "id": "d9499beb-bdea-4e55-845a-c5d6b7585955",
   "metadata": {},
   "outputs": [],
   "source": [
    "from scipy.io import loadmat\n",
    "import numpy as np\n",
    "import matplotlib.pyplot as plt\n",
    "from scipy.optimize import minimize"
   ]
  },
  {
   "cell_type": "code",
   "execution_count": null,
   "id": "b342c94e-831f-4339-981d-9a8882f05cfd",
   "metadata": {},
   "outputs": [],
   "source": [
    "data_mat = loadmat('ex4data1.mat')\n",
    "data_mat.keys()"
   ]
  },
  {
   "cell_type": "code",
   "execution_count": null,
   "id": "5f23f983-90f8-4be1-bff3-1f255562691a",
   "metadata": {},
   "outputs": [],
   "source": [
    "X,y =data_mat['X']data_mat['y']\n",
    "X.shape,y.shape\n",
    "s1,s2,s3 = 400,25,10"
   ]
  },
  {
   "cell_type": "code",
   "execution_count": null,
   "id": "2470420c-894b-47b6-98b5-a26239d193ff",
   "metadata": {},
   "outputs": [],
   "source": [
    "sample_indices = np.random.randint(0, len(X), 100)\n",
    "samples = X[sample_indices,:]\n",
    "print(samples.shape)\n",
    "fig, axes = plt.subplots(10, 10, figsize=(5, 5), gridspec_kw={'wspace': 0, 'hspace': 0})\n",
    "for i, ax in enumerate(axes.flat):\n",
    "    imgdata = samples[i,:].reshape(20,20)\n",
    "    ax.imshow(imgdata.T, cmap='gray')  # 使用灰度色彩映射显示\n",
    "    ax.axis('off')\n",
    "plt.show()"
   ]
  },
  {
   "cell_type": "code",
   "execution_count": null,
   "id": "262acc2e-bf15-4af6-bfc6-63495a156f3c",
   "metadata": {},
   "outputs": [],
   "source": [
    "theta_mat = loadmat('ex4weights.mat')\n",
    "theta_mat.keys()"
   ]
  },
  {
   "cell_type": "code",
   "execution_count": null,
   "id": "ab2d3ee3-4723-437d-88e3-5f253b0a1f59",
   "metadata": {},
   "outputs": [],
   "source": [
    "theta_l1,theta_l2= theta_mat['Theta1'],theta_mat['Theta2']\n",
    "theta_l1.shape,theta_l2.shape"
   ]
  },
  {
   "cell_type": "code",
   "execution_count": null,
   "id": "3e037708-55bc-45b7-b0c0-41d48953ca60",
   "metadata": {},
   "outputs": [],
   "source": [
    "def zFunc(X,theta):\n",
    "    X = np.insert(X,0,1,axis=1)\n",
    "    return X @ theta.T\n",
    "def aFunc(z):\n",
    "    return 1/(1+np.exp(-z))\n",
    "def derivativeOfa(z):\n",
    "    return aFunc(z)*(1-aFunc(z))\n",
    "def cost(theta1,theta2,X,y):\n",
    "    z1 = zFunc(X,theta1)\n",
    "    a2 = aFunc(z1)\n",
    "    z3 = zFunc(a2,theta2)\n",
    "    a3 = aFunc(z3)\n",
    "    return np.sum(-y * np.log(a3) - (1 - y) * np.log(1 - a3))/len(y) \n",
    "def reCost(theta1,theta2,X,y,lamda=0):\n",
    "    m = len(y)\n",
    "    noRe_cost = cost(theta1,theta2,X,y)\n",
    "    re = lamda/(2*m)*(np.sum(theta_l1[:,1:]**2)+np.sum(theta_l2[:,1:]**2))\n",
    "    return noRe_cost+re"
   ]
  },
  {
   "cell_type": "code",
   "execution_count": null,
   "id": "f931847e-60ae-4c8c-9307-437e7ca2394f",
   "metadata": {},
   "outputs": [],
   "source": [
    "z2 = zFunc(X,theta_l1)\n",
    "a2 = aFunc(z2)\n",
    "z3 = zFunc(a2,theta_l2)\n",
    "a3 = aFunc(z3)\n",
    "print(f'the shape of a3 is:{a3.shape}')"
   ]
  },
  {
   "cell_type": "code",
   "execution_count": null,
   "id": "0c1269a0-5bca-4e0c-a304-a1306ddbef0a",
   "metadata": {},
   "outputs": [],
   "source": [
    "y2broadcast = np.tile(np.arange(1,11),(5000,1))\n",
    "y2vector = (np.tile(y,(1,10)) == y2broadcast).astype(int)\n",
    "cost(theta_l1,theta_l2,X,y2vector)"
   ]
  },
  {
   "cell_type": "code",
   "execution_count": null,
   "id": "012285c9-a65b-4cb9-bbbc-16d00a7617ab",
   "metadata": {},
   "outputs": [],
   "source": [
    "reCost(theta_l1,theta_l2,X,y2vector,1)"
   ]
  },
  {
   "cell_type": "code",
   "execution_count": null,
   "id": "6283533b-d757-4ed0-be74-ad87ff9ec68f",
   "metadata": {},
   "outputs": [],
   "source": [
    "def W_init(shape,epsilon_init = 0.12):\n",
    "    W = np.random.uniform(-epsilon_init,epsilon_init,shape)\n",
    "    return W\n",
    "W_l1,W_l2 = W_init((s2,s1+1)),W_init((s3,s2+1))\n",
    "W_l1.shape,W_l2.shape"
   ]
  },
  {
   "cell_type": "code",
   "execution_count": null,
   "id": "38907a0a-6dfb-4d6f-86cf-65210275f068",
   "metadata": {},
   "outputs": [],
   "source": [
    "theta_l1.shape,theta_l2.shape"
   ]
  },
  {
   "cell_type": "markdown",
   "id": "7d7e0081-82a8-4bdb-99ea-327424d29ebf",
   "metadata": {},
   "source": [
    "## 思路\n",
    "$\\huge \\delta^{(l)}_{j}$ erros of cost for $\\huge a^{(l)}_{j}$     ( Unit $j$ in layer $l$ )<br><br>\n",
    "$\\huge \\delta^{(l)}_{j}=\\frac{\\partial}{\\partial z^{(l)}_{j}}cost(X,y,\\Theta^{(1)},\\Theta^{(2)},...)$<br><br>\n",
    "$\\huge \\delta^{(l)}=(\\Theta^{(l)})^{T}\\delta^{(l+1)}*g^{'}(z^{(l)})$<br><br>\n",
    "$\\huge \\Delta^{(l)} = a^{(l)}\\delta^{(l+1)} $\n",
    "\n",
    "### 第一步：正向计算<br>\n",
    "- 获得第1层到导数第2层的a<br>\n",
    "- 计算最后1层到第2层的$\\delta$\n",
    "- 计算每一层的$\\huge \\Delta$ ,也就是$\\huge \\frac{\\partial}{\\partial \\Theta^{(l)}}cost()$\n"
   ]
  },
  {
   "cell_type": "code",
   "execution_count": null,
   "id": "628d385f-42c1-478c-a428-c76d89c78029",
   "metadata": {},
   "outputs": [],
   "source": [
    "a1 = X\n",
    "z1 = zFunc(a1,W_l1)\n",
    "a1 = aFunc(z1)\n",
    "z2 = "
   ]
  },
  {
   "cell_type": "code",
   "execution_count": null,
   "id": "8da863d4-b161-4e8b-8418-7ab12bb3bd54",
   "metadata": {},
   "outputs": [],
   "source": []
  }
 ],
 "metadata": {
  "kernelspec": {
   "display_name": "Python 3 (ipykernel)",
   "language": "python",
   "name": "python3"
  },
  "language_info": {
   "codemirror_mode": {
    "name": "ipython",
    "version": 3
   },
   "file_extension": ".py",
   "mimetype": "text/x-python",
   "name": "python",
   "nbconvert_exporter": "python",
   "pygments_lexer": "ipython3",
   "version": "3.10.11"
  }
 },
 "nbformat": 4,
 "nbformat_minor": 5
}
