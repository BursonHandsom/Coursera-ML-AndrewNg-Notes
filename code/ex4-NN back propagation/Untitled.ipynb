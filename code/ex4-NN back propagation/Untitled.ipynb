{
 "cells": [
  {
   "cell_type": "code",
   "execution_count": 1,
   "id": "a3ce4ca7-9bb2-4528-a2f7-b23d46ff959b",
   "metadata": {},
   "outputs": [
    {
     "name": "stdout",
     "output_type": "stream",
     "text": [
      "(25, 401) (10, 26)\n"
     ]
    }
   ],
   "source": [
    "#下面是一个完整的正向传播和反向传播的示例代码，包括了对应的注释。假设训练数据X的形状为(5000, 400)，y的形状为(5000, 10)，Theta1的形状为(25, 401)，Theta2的形状为(10, 26)。\n",
    "import numpy as np\n",
    "\n",
    "# 定义sigmoid函数\n",
    "def sigmoid(z):\n",
    "    return 1 / (1 + np.exp(-z))\n",
    "# 定义sigmoid函数的导数\n",
    "def sigmoid_gradient(z):\n",
    "    return sigmoid(z) * (1 - sigmoid(z))\n",
    "\n",
    "# 初始化参数\n",
    "input_layer_size = 400\n",
    "hidden_layer_size = 25\n",
    "output_layer_size = 10\n",
    "\n",
    "# 随机初始化Theta1和Theta2\n",
    "Theta1 = np.random.randn(hidden_layer_size, input_layer_size + 1)\n",
    "Theta2 = np.random.randn(output_layer_size, hidden_layer_size + 1)\n",
    "print(Theta1.shape,Theta2.shape)\n",
    "\n",
    "# # 正向传播\n",
    "# def forward_propagation(X):\n",
    "#     m = X.shape[0] # 样本数量\n",
    "\n",
    "#     # 增加偏置单元\n",
    "#     X = np.hstack((np.ones((m, 1)), X))\n",
    "#     print(X.shape)\n",
    "\n",
    "#     # 第一层到第二层的传播\n",
    "#     z2 = X @ Theta1.T\n",
    "#     a2 = sigmoid(z2)\n",
    "\n",
    "#     # 增加偏置单元\n",
    "#     a2 = np.hstack((np.ones((m, 1)), a2))\n",
    "\n",
    "#     # 第二层到第三层的传播\n",
    "#     z3 = a2 @ Theta2.T\n",
    "#     a3 = sigmoid(z3)\n",
    "\n",
    "#     return a3\n",
    "\n",
    "# # 反向传播\n",
    "# def back_propagation(X, y):\n",
    "#     m = X.shape[0] # 样本数量\n",
    "\n",
    "#     # 正向传播\n",
    "#     a3 = forward_propagation(X)\n",
    "\n",
    "#     # 计算输出层的delta\n",
    "#     delta3 = a3 - y\n",
    "\n",
    "#     # 计算隐藏层的delta\n",
    "#     delta2 = (delta3 @ Theta2)[:, 1:] * sigmoid_gradient(X @ Theta1.T)\n",
    "\n",
    "#     # 计算Theta梯度\n",
    "#     Theta2_gradient = (delta3.T @ np.hstack((np.ones((m, 1)), sigmoid(z2)))) / m\n",
    "#     Theta1_gradient = (delta2.T @ np.hstack((np.ones((m, 1)), X))) / m\n",
    "\n",
    "#     return Theta1_gradient, Theta2_gradient\n",
    "\n",
    "# # 测试代码\n",
    "X = np.random.randn(5000, 400) # 输入样本\n",
    "y = np.random.randn(5000, 10) # 标签\n",
    "\n",
    "# Theta1_gradient, Theta2_gradient = back_propagation(X, y)\n",
    "# print(Theta1_gradient.shape) # 打印Theta1的梯度形状\n",
    "# print(Theta2_gradient.shape) # 打印Theta2的梯度形状"
   ]
  },
  {
   "cell_type": "code",
   "execution_count": 2,
   "id": "92040d5c-4efb-472b-acdd-5209bafa1125",
   "metadata": {},
   "outputs": [
    {
     "data": {
      "text/plain": [
       "((5000, 401), (25, 401), (10, 26))"
      ]
     },
     "execution_count": 2,
     "metadata": {},
     "output_type": "execute_result"
    }
   ],
   "source": [
    "X = np.insert(X.copy(),0,1,axis=1)\n",
    "m = X.shape[0]\n",
    "X.shape,Theta1.shape,Theta2.shape"
   ]
  },
  {
   "cell_type": "code",
   "execution_count": 3,
   "id": "bfb555c4-3ca2-4a93-b357-e5fcec6d0aa7",
   "metadata": {},
   "outputs": [
    {
     "data": {
      "text/plain": [
       "(5000, 10)"
      ]
     },
     "execution_count": 3,
     "metadata": {},
     "output_type": "execute_result"
    }
   ],
   "source": [
    "z2 = X @ Theta1.T\n",
    "z2.shape\n",
    "a2 = sigmoid(z2)\n",
    "a2 =np.insert(a2,0,1,axis = 1)\n",
    "a2.shape\n",
    "z3 = a2 @ Theta2.T\n",
    "a3 = sigmoid(z3)\n",
    "a3.shape"
   ]
  },
  {
   "cell_type": "code",
   "execution_count": 4,
   "id": "87c61d91-747e-47b6-bcbd-6794d72e5102",
   "metadata": {},
   "outputs": [
    {
     "data": {
      "text/plain": [
       "((5000, 25), (5000, 26), (5000, 10), (5000, 10))"
      ]
     },
     "execution_count": 4,
     "metadata": {},
     "output_type": "execute_result"
    }
   ],
   "source": [
    "z2.shape,a2.shape,z3.shape,a3.shape"
   ]
  },
  {
   "cell_type": "code",
   "execution_count": 5,
   "id": "ad647e69-9b93-4c20-81b6-7dbcf5a5997f",
   "metadata": {},
   "outputs": [
    {
     "data": {
      "text/plain": [
       "(5000, 10)"
      ]
     },
     "execution_count": 5,
     "metadata": {},
     "output_type": "execute_result"
    }
   ],
   "source": [
    "delta3 = a3-y\n",
    "delta3.shape"
   ]
  },
  {
   "cell_type": "code",
   "execution_count": 8,
   "id": "e516cd72-eda3-4c0c-8cc2-5c15abc39dab",
   "metadata": {},
   "outputs": [
    {
     "data": {
      "text/plain": [
       "((5000, 10), (10, 26), (5000, 25))"
      ]
     },
     "execution_count": 8,
     "metadata": {},
     "output_type": "execute_result"
    }
   ],
   "source": [
    "# delta2 = (delta3 @ Theta2) * sigmoid_gradient(np.insert(X @ Theta1.T,0,1,axis=1))\n",
    "delta2 = (delta3 @ Theta2)[:, 1:] * sigmoid_gradient(X @ Theta1.T)\n",
    "delta3.shape,Theta2.shape,delta2.shape"
   ]
  },
  {
   "cell_type": "code",
   "execution_count": 9,
   "id": "196c83f1-7223-4e14-be30-41f774aee941",
   "metadata": {},
   "outputs": [
    {
     "data": {
      "text/plain": [
       "((25, 401), (10, 26), (5000, 26))"
      ]
     },
     "execution_count": 9,
     "metadata": {},
     "output_type": "execute_result"
    }
   ],
   "source": [
    "# Theta2_gradient = (delta3.T @ np.hstack((np.ones((m, 1)), sigmoid(z2)))) / m\n",
    "# Theta1_gradient = (delta2.T @ np.hstack((np.ones((m, 1)), X))) / m\n",
    "Theta2_gradient = delta3.T @ a2 / m\n",
    "Theta1_gradient = delta2.T @ X / m\n",
    "Theta1_gradient.shape,Theta2_gradient.shape,a2.shape"
   ]
  },
  {
   "cell_type": "code",
   "execution_count": null,
   "id": "a1946059-0994-4fe3-8112-e3b1d46c3e70",
   "metadata": {},
   "outputs": [],
   "source": []
  }
 ],
 "metadata": {
  "kernelspec": {
   "display_name": "Python 3 (ipykernel)",
   "language": "python",
   "name": "python3"
  },
  "language_info": {
   "codemirror_mode": {
    "name": "ipython",
    "version": 3
   },
   "file_extension": ".py",
   "mimetype": "text/x-python",
   "name": "python",
   "nbconvert_exporter": "python",
   "pygments_lexer": "ipython3",
   "version": "3.10.11"
  }
 },
 "nbformat": 4,
 "nbformat_minor": 5
}
