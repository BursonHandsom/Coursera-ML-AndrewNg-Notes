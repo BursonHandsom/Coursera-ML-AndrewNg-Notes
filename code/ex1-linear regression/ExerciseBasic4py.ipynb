{
 "cells": [
  {
   "cell_type": "markdown",
   "id": "cfe46af2-846a-407a-937a-a1bc15030572",
   "metadata": {},
   "source": [
    "# numpy"
   ]
  },
  {
   "cell_type": "code",
   "execution_count": 2,
   "id": "130faa48-0802-41a3-bafe-475fcb19e8d3",
   "metadata": {},
   "outputs": [],
   "source": [
    "import numpy as np"
   ]
  },
  {
   "cell_type": "code",
   "execution_count": 74,
   "id": "cdf40455-7e47-4354-9b42-f5a69a7c4b8a",
   "metadata": {},
   "outputs": [],
   "source": [
    "a = np.arange(15)\n",
    "b = a.reshape(3,5)\n",
    "c = np.array([\n",
    "    [\n",
    "        [1,2],\n",
    "        [11,21]\n",
    "    ],\n",
    "    [\n",
    "        [3,4],\n",
    "        [31,32]\n",
    "    ],\n",
    "    [\n",
    "        [5,6],\n",
    "        [51,52]\n",
    "    ]\n",
    "])\n",
    "d =np.array([[[]]])"
   ]
  },
  {
   "cell_type": "code",
   "execution_count": 75,
   "id": "811e914b-4800-4f56-887e-d7eb21dfe5d1",
   "metadata": {},
   "outputs": [
    {
     "name": "stdout",
     "output_type": "stream",
     "text": [
      "a:\n",
      "[ 0  1  2  3  4  5  6  7  8  9 10 11 12 13 14]\n",
      "b:\n",
      "[[ 0  1  2  3  4]\n",
      " [ 5  6  7  8  9]\n",
      " [10 11 12 13 14]]\n",
      "c:\n",
      "[[[ 1  2]\n",
      "  [11 21]]\n",
      "\n",
      " [[ 3  4]\n",
      "  [31 32]]\n",
      "\n",
      " [[ 5  6]\n",
      "  [51 52]]]\n",
      "d:\n",
      "[]\n"
     ]
    }
   ],
   "source": [
    "print(f\"a:\\n{a}\")\n",
    "print(f\"b:\\n{b}\")\n",
    "print(f\"c:\\n{c}\")\n",
    "print(f\"d:\\n{d}\")"
   ]
  },
  {
   "cell_type": "markdown",
   "id": "a212f95b-8322-4159-8f6a-2e24d572efbc",
   "metadata": {},
   "source": [
    "## ndarrya.ndim 维度(轴)数量"
   ]
  },
  {
   "cell_type": "code",
   "execution_count": 76,
   "id": "0ed6c58b-28ba-4d64-9ec1-b04fdee1590e",
   "metadata": {},
   "outputs": [
    {
     "name": "stdout",
     "output_type": "stream",
     "text": [
      "1\n",
      "2\n",
      "3\n",
      "3\n"
     ]
    }
   ],
   "source": [
    "print(a.ndim)\n",
    "print(b.ndim)\n",
    "print(c.ndim)\n",
    "print(d.ndim)"
   ]
  },
  {
   "cell_type": "markdown",
   "id": "02e8fc32-fbfb-4f5a-920a-e04c71595eb9",
   "metadata": {},
   "source": [
    "## ndarray.shape:返回每个维度(轴)的元素数量信息"
   ]
  },
  {
   "cell_type": "code",
   "execution_count": 81,
   "id": "fd1277f1-89b5-4e72-8da2-db3d30712328",
   "metadata": {
    "scrolled": true
   },
   "outputs": [
    {
     "name": "stdout",
     "output_type": "stream",
     "text": [
      "(15,)\n",
      "(3, 5)\n",
      "(3, 2, 2)\n",
      "(1, 1, 0)\n"
     ]
    }
   ],
   "source": [
    "print(a.shape)\n",
    "print(b.shape)\n",
    "print(c.shape)\n",
    "print(d.shape)"
   ]
  },
  {
   "cell_type": "markdown",
   "id": "aee4690e-2821-49e0-88e9-ef115a83ead6",
   "metadata": {},
   "source": [
    "## ndarrya.size:元素总数量"
   ]
  },
  {
   "cell_type": "code",
   "execution_count": 82,
   "id": "0f581ffc-e94c-4fdb-99f3-bbb4f9e64976",
   "metadata": {},
   "outputs": [
    {
     "name": "stdout",
     "output_type": "stream",
     "text": [
      "15\n",
      "15\n",
      "12\n",
      "0\n"
     ]
    }
   ],
   "source": [
    "print(a.size)\n",
    "print(b.size)\n",
    "print(c.size)\n",
    "print(d.size)"
   ]
  },
  {
   "cell_type": "code",
   "execution_count": 84,
   "id": "892a043e-0a9f-4ca9-94b0-4343daf69cdf",
   "metadata": {
    "scrolled": true
   },
   "outputs": [
    {
     "ename": "ValueError",
     "evalue": "setting an array element with a sequence. The requested array has an inhomogeneous shape after 1 dimensions. The detected shape was (2,) + inhomogeneous part.",
     "output_type": "error",
     "traceback": [
      "\u001b[1;31m---------------------------------------------------------------------------\u001b[0m",
      "\u001b[1;31mValueError\u001b[0m                                Traceback (most recent call last)",
      "Cell \u001b[1;32mIn[84], line 1\u001b[0m\n\u001b[1;32m----> 1\u001b[0m \u001b[43mnp\u001b[49m\u001b[38;5;241;43m.\u001b[39;49m\u001b[43marray\u001b[49m\u001b[43m(\u001b[49m\u001b[43m[\u001b[49m\u001b[38;5;124;43m\"\u001b[39;49m\u001b[38;5;124;43msss\u001b[39;49m\u001b[38;5;124;43m\"\u001b[39;49m\u001b[43m,\u001b[49m\u001b[43m[\u001b[49m\u001b[38;5;241;43m2\u001b[39;49m\u001b[43m]\u001b[49m\u001b[43m]\u001b[49m\u001b[43m)\u001b[49m\n",
      "\u001b[1;31mValueError\u001b[0m: setting an array element with a sequence. The requested array has an inhomogeneous shape after 1 dimensions. The detected shape was (2,) + inhomogeneous part."
     ]
    }
   ],
   "source": []
  },
  {
   "cell_type": "code",
   "execution_count": null,
   "id": "495137c7-59e6-4de6-86d4-030c03bb3186",
   "metadata": {},
   "outputs": [],
   "source": []
  }
 ],
 "metadata": {
  "kernelspec": {
   "display_name": "Python 3 (ipykernel)",
   "language": "python",
   "name": "python3"
  },
  "language_info": {
   "codemirror_mode": {
    "name": "ipython",
    "version": 3
   },
   "file_extension": ".py",
   "mimetype": "text/x-python",
   "name": "python",
   "nbconvert_exporter": "python",
   "pygments_lexer": "ipython3",
   "version": "3.10.11"
  }
 },
 "nbformat": 4,
 "nbformat_minor": 5
}
