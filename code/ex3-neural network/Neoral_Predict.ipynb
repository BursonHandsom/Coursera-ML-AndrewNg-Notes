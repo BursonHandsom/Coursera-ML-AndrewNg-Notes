{
 "cells": [
  {
   "cell_type": "code",
   "execution_count": 11,
   "id": "63da769c-d246-4f03-9171-0433f3efa553",
   "metadata": {},
   "outputs": [],
   "source": [
    "from scipy.io import loadmat\n",
    "import numpy as np"
   ]
  },
  {
   "cell_type": "code",
   "execution_count": 5,
   "id": "4753781b-c1d2-48e3-9673-154d044ccdc6",
   "metadata": {},
   "outputs": [
    {
     "data": {
      "text/plain": [
       "(dict_keys(['__header__', '__version__', '__globals__', 'Theta1', 'Theta2']),\n",
       " dict_keys(['__header__', '__version__', '__globals__', 'X', 'y']))"
      ]
     },
     "execution_count": 5,
     "metadata": {},
     "output_type": "execute_result"
    }
   ],
   "source": [
    "thetaMat = loadmat('ex3weights.mat')\n",
    "dataMat = loadmat('ex3data1.mat')\n",
    "\n",
    "thetaMat.keys(),dataMat.keys()"
   ]
  },
  {
   "cell_type": "markdown",
   "id": "d3d6d0cc-c205-42b9-9837-7786ed2521b0",
   "metadata": {},
   "source": [
    "## 明确模型框架\n",
    "layer2 = 25，则一共有25组theta_L1,由由于样本的特征数量为400，加上偏置项，则每组theta_L1为401<br>\n",
    "layer3 = 10，则一共有10组tetha_L2,由于layer有25个但愿，加上偏置单元，则每组theta_L2为26"
   ]
  },
  {
   "cell_type": "code",
   "execution_count": 6,
   "id": "3e69305b-30b7-43bb-b2bb-a118e887a8ab",
   "metadata": {},
   "outputs": [
    {
     "data": {
      "text/plain": [
       "((25, 401), (10, 26), (5000, 400), (5000, 1))"
      ]
     },
     "execution_count": 6,
     "metadata": {},
     "output_type": "execute_result"
    }
   ],
   "source": [
    "theta_L1,theta_L2 = thetaMat['Theta1'],thetaMat['Theta2']\n",
    "data_X,data_y = dataMat['X'], dataMat['y'] \n",
    "theta_L1.shape,theta_L2.shape,data_X.shape,data_y.shape"
   ]
  },
  {
   "cell_type": "markdown",
   "id": "b59f11a0-9300-40fc-b672-ffbf418daaa6",
   "metadata": {},
   "source": [
    "## 定义z函数和a函数\n",
    "已经得到theta，只需要预测，不需要cost函数。每个神经元都只需要z函数和a函数"
   ]
  },
  {
   "cell_type": "code",
   "execution_count": 17,
   "id": "39cd3fac-94a5-42a7-8439-5da6edd9aa61",
   "metadata": {},
   "outputs": [],
   "source": [
    "def zFunc(X,theta):\n",
    "    X = np.insert(X,0,1,axis=1)\n",
    "    return X @ theta.T\n",
    "def aFunc(x):\n",
    "    return 1/(1+np.exp(-x))"
   ]
  },
  {
   "cell_type": "markdown",
   "id": "50ef3a00-9b74-47dd-8e54-74e41b185d2d",
   "metadata": {},
   "source": [
    "## 逐层算就对了\n",
    "第一步：<br>\n",
    "a1 = X add bias unit<br>\n",
    "z2 = a1 @ theta_L1<br>\n",
    "a2 = aFunc(z2)<br>\n",
    "第二步：<br>\n",
    "a2 add bias unit<br>\n",
    "z3 = a2 @ theta_L2<br>\n",
    "a3 = aFunc(z3) = hvalues<br>\n",
    "第三步：<br>\n",
    "单个训练样本比较可能性，最大可能性类型作为预测值<br>\n",
    "第四步：<br>\n",
    "预测的标签和训练标签做比较，得到准确数，从而得到准确率"
   ]
  },
  {
   "cell_type": "code",
   "execution_count": 18,
   "id": "4b3ab580-2952-4dea-9521-366c9bbe68fb",
   "metadata": {},
   "outputs": [
    {
     "name": "stdout",
     "output_type": "stream",
     "text": [
      "shape of z2 is:(5000, 25)\n",
      "shape of a2 is:(5000, 25)\n",
      "shape of z3 is:(5000, 10)\n",
      "shape of a3 is:(5000, 10)\n"
     ]
    }
   ],
   "source": [
    "z2 = zFunc(data_X,theta_L1)\n",
    "print(f'shape of z2 is:{z2.shape}')\n",
    "a2 = aFunc(z2)\n",
    "print(f'shape of a2 is:{a2.shape}')\n",
    "z3 = zFunc(a2,theta_L2)\n",
    "print(f'shape of z3 is:{z3.shape}')\n",
    "a3 = aFunc(z3)\n",
    "print(f'shape of a3 is:{a3.shape}')"
   ]
  },
  {
   "cell_type": "code",
   "execution_count": 19,
   "id": "980e4c8c-80ac-41d6-98b4-7a6e212c8df8",
   "metadata": {},
   "outputs": [
    {
     "name": "stdout",
     "output_type": "stream",
     "text": [
      "[10 10 10 ...  9  9  9]\n",
      "0.9752\n"
     ]
    }
   ],
   "source": [
    "predict = a3.argmax(1)+1\n",
    "print(predict)\n",
    "acc_predict = (predict == data_y.ravel()).astype(int)\n",
    "acc_rate = np.sum(acc_predict)/len(data_y)\n",
    "print(acc_rate)"
   ]
  },
  {
   "cell_type": "code",
   "execution_count": null,
   "id": "372c74f5-6fef-4081-a820-a7bcf7ac23ab",
   "metadata": {},
   "outputs": [],
   "source": []
  }
 ],
 "metadata": {
  "kernelspec": {
   "display_name": "Python 3 (ipykernel)",
   "language": "python",
   "name": "python3"
  },
  "language_info": {
   "codemirror_mode": {
    "name": "ipython",
    "version": 3
   },
   "file_extension": ".py",
   "mimetype": "text/x-python",
   "name": "python",
   "nbconvert_exporter": "python",
   "pygments_lexer": "ipython3",
   "version": "3.10.11"
  }
 },
 "nbformat": 4,
 "nbformat_minor": 5
}
